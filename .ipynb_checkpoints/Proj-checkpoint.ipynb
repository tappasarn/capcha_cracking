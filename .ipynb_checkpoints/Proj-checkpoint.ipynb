{
 "metadata": {
  "name": "",
  "signature": "sha256:056ae6c95342f20b971f1a88e34af03b990871979a8eba048b575a45b4a9d655"
 },
 "nbformat": 3,
 "nbformat_minor": 0,
 "worksheets": [
  {
   "cells": [
    {
     "cell_type": "markdown",
     "metadata": {},
     "source": [
      "#Report\n",
      "The algorithm chosen:\n",
      "- we choose knn to classify because it is easy and fast\n",
      "- we attempt to use svd, but it does not work and there is no time left to try other algorithm since Time will go to the beach with his  - girls \n",
      "- \u201cI\u2019m sorry\u201d (Time,2015)\n",
      "-------------\n",
      "###How the project begin:\n",
      "- we use selenium webdriver to get the 900 captcha pattern from MUIC SKY system\n",
      "    - now we get 900*4 training set\n",
      "    - yes, it is bad, but we did it anyway\n",
      "    - we are so sorry\n",
      "- we write a program to crop each digit out of the picture by the size of 18*12 pixels\n",
      "    - we get the size by using Gimp(open source) to put 30 of captchas on the same image then try to get the grid that we get the most out of digit while it is not overlap others\n",
      "- Next, we write a program to create training data set \n",
      "    - by manually label each digit from images\n",
      "        -so we can use those to train with knn\n",
      "        - knn actually group the unknown digits to the k-nth known neighbor that we have trained earlier. \n",
      "- Next, we use selenium web driver to get to the SKY\n",
      "    - get the captcha image and then classify with knn\n",
      "    - then automatically fill it\n",
      "- now, we have an automatic login script for SKY system\n",
      "\n",
      "###The benefit of this project is not to auto-login into sky system \n",
      "we actually have learn something really new. We have learn that we will not be able to use SVD to get a good sets of coefficient to represent the digits since the cropped number is not located in the middle of cropped images.\n"
     ]
    },
    {
     "cell_type": "code",
     "collapsed": false,
     "input": [
      "import time\n",
      "from time import gmtime, strftime\n",
      "import urllib\n",
      "import datetime\n",
      "from selenium import webdriver\n",
      "from selenium.common.exceptions import NoSuchElementException"
     ],
     "language": "python",
     "metadata": {},
     "outputs": [],
     "prompt_number": 7
    },
    {
     "cell_type": "markdown",
     "metadata": {},
     "source": [
      "##Install selenium first\n",
      " - pip install selenium"
     ]
    },
    {
     "cell_type": "markdown",
     "metadata": {},
     "source": [
      "#Get Captcha\n",
      "This is for getting captchas from SKY"
     ]
    },
    {
     "cell_type": "code",
     "collapsed": false,
     "input": [
      "browser = webdriver.Firefox()\n",
      "browser.get(\"http://sky.muic.mahidol.ac.th/\")\n",
      "\n",
      "for i in range(100):\n",
      "    find = browser.find_element_by_id(\"captcha\")\n",
      "    loc = find.get_attribute('src')\n",
      "    fname = strftime(\"%H-%M-%S\", gmtime())\n",
      "    urllib.urlretrieve(loc, fname+\".png\")\n",
      "    time.sleep(2)\n",
      "    browser.refresh()\n",
      "    print i"
     ],
     "language": "python",
     "metadata": {},
     "outputs": []
    },
    {
     "cell_type": "markdown",
     "metadata": {},
     "source": [
      "#Handmade labelling section\n",
      "labor work here we get the image -> transfer to array, then slice to 4 digits with the size of approximately 18*12, we also paded value of 1s in to second and third digits because we want to keep dimention of all digits same, but originaly these two digits located in the middle are actually slimmer than the first and last digit ,we transfer each digit from 2d array to 1d array so we can keep all digit as big matrix in single file, then show the digits and labor will fill the number then keep those in .csv file\n",
      "we actually have 2 cases due to different array dimension from PNG image\n",
      " - case 1 rarely found"
     ]
    },
    {
     "cell_type": "code",
     "collapsed": false,
     "input": [
      "from scipy import misc\n",
      "from matplotlib import pyplot as plt\n",
      "import matplotlib.cm as cm\n",
      "import Image\n",
      "import numpy as np\n",
      "import csv\n",
      "\n",
      "from glob import glob\n",
      "fnames = glob('1009/*.png')\n",
      "\n",
      "\n",
      "for name in fnames:\n",
      "    pic = Image.open(name)\n",
      "\n",
      "    picarray = np.asarray(pic)\n",
      "    bluecheck = 55080\n",
      "    tow_d = picarray[:,:,3]\n",
      "\n",
      "    firstnum = tow_d[8:26,7:19]\n",
      "\n",
      "    secondnum = tow_d[8:26,19:30]#need pad 1s\n",
      "    paded_secondnum = np.zeros((secondnum.shape[0], secondnum.shape[1]+1))\n",
      "    paded_secondnum[:,:secondnum.shape[1]] = secondnum\n",
      "\n",
      "    thirdnum = tow_d[8:26,30:40]#need 2 colum paded 1s\n",
      "    paded_thirdnum = np.zeros((thirdnum.shape[0], thirdnum.shape[1]+2))\n",
      "    paded_thirdnum[:,:thirdnum.shape[1]] = thirdnum\n",
      "\n",
      "    fouthnum = tow_d[8:26,40:52] \n",
      "\n",
      "    one_d1 = firstnum.reshape(216)\n",
      "    one_d2 = paded_secondnum.reshape(216)\n",
      "    one_d3 = paded_thirdnum.reshape(216)\n",
      "    one_d4 = fouthnum.reshape(216)\n",
      "\n",
      "    tow_d2 = picarray[:,:,2]\n",
      "    \n",
      "    firstnum2 = tow_d2[8:26,7:19]\n",
      "\n",
      "    secondnum2 = tow_d2[8:26,19:30] #need 1 colum to pad 1s\n",
      "    paded_secondnum2 = np.zeros((secondnum2.shape[0], secondnum2.shape[1]+1))\n",
      "    paded_secondnum2[:,:secondnum2.shape[1]] = secondnum2[:,:]\n",
      "\n",
      "    thirdnum2 = tow_d2[8:26,30:40] #need 2 colum to pad 1s\n",
      "    paded_thirdnum2 = np.zeros((thirdnum2.shape[0], thirdnum2.shape[1]+2))\n",
      "    paded_thirdnum2[:,:thirdnum2.shape[1]] = thirdnum2\n",
      "\n",
      "    fouthnum2 = tow_d2[8:26,40:52] \n",
      "\n",
      "    one_d12 = firstnum2.reshape(216)\n",
      "    one_d22 = paded_secondnum2.reshape(216)\n",
      "    one_d32 = paded_thirdnum2.reshape(216)\n",
      "    one_d42 = fouthnum2.reshape(216)\n",
      "\n",
      "\n",
      "    one_d12[one_d12==255] = 0\n",
      "    one_d22[one_d22==255] = 0\n",
      "    one_d32[one_d32==255] = 0\n",
      "    one_d42[one_d42==255] = 0\n",
      "\n",
      "    firstnum2=one_d12.reshape(18,12)\n",
      "\n",
      "    if(np.sum(np.sum(firstnum, axis=0)) == bluecheck):\n",
      "        print \"case1\"\n",
      "        f = plt.figure()\n",
      "        f.add_subplot(2,2,1)\n",
      "        plt.imshow(one_d12.reshape(18,12))\n",
      "        f.add_subplot(2,2,2)\n",
      "        plt.imshow(one_d22.reshape(18,12))\n",
      "        f.add_subplot(2,2,3)\n",
      "        plt.imshow(one_d32.reshape(18,12))\n",
      "        f.add_subplot(2,2,4)\n",
      "        plt.imshow(one_d42.reshape(18,12))\n",
      "        plt.show()\n",
      "\n",
      "        with open('blog1009.csv', 'ab') as csvfile:\n",
      "            spamwriter = csv.writer(csvfile, delimiter=',',quotechar='|', quoting=csv.QUOTE_MINIMAL)\n",
      "            blogwrite = np.zeros((4, 217))\n",
      "            a = raw_input('gimme 4 ').split(' ')\n",
      "            blogwrite[0,1:] = one_d12\n",
      "            blogwrite[1,1:] = one_d22\n",
      "            blogwrite[2,1:] = one_d32\n",
      "            blogwrite[3,1:] = one_d42\n",
      "            blogwrite[:,0] = a\n",
      "            spamwriter.writerows(blogwrite)\n",
      "\n",
      "    else:\n",
      "        print \"case2\"\n",
      "        f = plt.figure()\n",
      "        f.add_subplot(2,2,1)\n",
      "        plt.imshow(one_d1.reshape(18,12))\n",
      "        f.add_subplot(2,2,2)\n",
      "        plt.imshow(one_d2.reshape(18,12))\n",
      "        f.add_subplot(2,2,3)\n",
      "        plt.imshow(one_d3.reshape(18,12))\n",
      "        f.add_subplot(2,2,4)\n",
      "        plt.imshow(one_d4.reshape(18,12))\n",
      "        plt.show()\n",
      "\n",
      "        with open('blog1009.csv', 'ab') as csvfile:\n",
      "            spamwriter = csv.writer(csvfile, delimiter=',',quotechar='|', quoting=csv.QUOTE_MINIMAL)\n",
      "            blogwrite = np.zeros((4, 217))\n",
      "            a = raw_input('gimme 4 ').split(' ')\n",
      "            blogwrite[0,1:] = one_d1\n",
      "            blogwrite[1,1:] = one_d2\n",
      "            blogwrite[2,1:] = one_d3\n",
      "            blogwrite[3,1:] = one_d4\n",
      "            blogwrite[:,0] = a\n",
      "            spamwriter.writerows(blogwrite)"
     ],
     "language": "python",
     "metadata": {},
     "outputs": []
    },
    {
     "cell_type": "markdown",
     "metadata": {},
     "source": [
      "##Train all data here"
     ]
    },
    {
     "cell_type": "code",
     "collapsed": false,
     "input": [
      "alls = np.loadtxt(\"blogall.csv\", delimiter = ',')\n",
      "ys_train = alls[:,0]\n",
      "xs_train = alls[:,1:]"
     ],
     "language": "python",
     "metadata": {},
     "outputs": [],
     "prompt_number": 58
    },
    {
     "cell_type": "code",
     "collapsed": false,
     "input": [
      "from sklearn import neighbors\n",
      "knn = neighbors.KNeighborsClassifier(n_neighbors=5)\n",
      "knn.fit(xs_train, ys_train)"
     ],
     "language": "python",
     "metadata": {},
     "outputs": [
      {
       "metadata": {},
       "output_type": "pyout",
       "prompt_number": 75,
       "text": [
        "KNeighborsClassifier(algorithm='auto', leaf_size=30, metric='minkowski',\n",
        "           metric_params=None, n_neighbors=5, p=2, weights='uniform')"
       ]
      }
     ],
     "prompt_number": 75
    },
    {
     "cell_type": "code",
     "collapsed": false,
     "input": [
      "t = np.loadtxt(\"bigset.csv\", delimiter = ',')\n",
      "knn.predict(t)"
     ],
     "language": "python",
     "metadata": {},
     "outputs": [
      {
       "metadata": {},
       "output_type": "pyout",
       "prompt_number": 68,
       "text": [
        "array([ 4.,  4.,  2.,  3.,  3.,  9.,  4.,  4.,  6.,  1.,  8.,  2.,  4.,\n",
        "        9.,  1.,  2.,  9.,  6.,  8.,  0.,  5.,  3.,  0.,  4.,  1.,  4.,\n",
        "        0.,  7.,  8.,  1.,  3.,  1.,  9.,  7.,  0.,  5.,  1.,  3.,  9.,  7.])"
       ]
      }
     ],
     "prompt_number": 68
    },
    {
     "cell_type": "markdown",
     "metadata": {},
     "source": [
      "#SVD (does not work)"
     ]
    },
    {
     "cell_type": "code",
     "collapsed": false,
     "input": [
      "U_train, s_train, V_train = np.linalg.svd(xs_train.T, full_matrices=True)\n",
      "C_train = np.dot(U_train.T,xs_train.T)\n",
      "print C_train.shape"
     ],
     "language": "python",
     "metadata": {},
     "outputs": [
      {
       "output_type": "stream",
       "stream": "stdout",
       "text": [
        "(216L, 3600L)\n"
       ]
      }
     ],
     "prompt_number": 86
    },
    {
     "cell_type": "code",
     "collapsed": false,
     "input": [
      "knn2 = neighbors.KNeighborsClassifier(n_neighbors=3)\n",
      "knn2.fit(C_train.T, ys_train)"
     ],
     "language": "python",
     "metadata": {},
     "outputs": [
      {
       "metadata": {},
       "output_type": "pyout",
       "prompt_number": 87,
       "text": [
        "KNeighborsClassifier(algorithm='auto', leaf_size=30, metric='minkowski',\n",
        "           metric_params=None, n_neighbors=3, p=2, weights='uniform')"
       ]
      }
     ],
     "prompt_number": 87
    },
    {
     "cell_type": "code",
     "collapsed": false,
     "input": [
      "U_unknown, s_unknown, V_unknown = np.linalg.svd(t.T, full_matrices=True)\n",
      "C_unknown = np.dot(U_unknown.T,t.T)\n",
      "print C_unknown.shape"
     ],
     "language": "python",
     "metadata": {},
     "outputs": [
      {
       "output_type": "stream",
       "stream": "stdout",
       "text": [
        "(216L, 40L)\n"
       ]
      }
     ],
     "prompt_number": 88
    },
    {
     "cell_type": "code",
     "collapsed": false,
     "input": [
      "knn2.predict(C_unknown.T)"
     ],
     "language": "python",
     "metadata": {},
     "outputs": [
      {
       "metadata": {},
       "output_type": "pyout",
       "prompt_number": 89,
       "text": [
        "array([ 6.,  6.,  5.,  0.,  7.,  9.,  6.,  2.,  6.,  3.,  5.,  0.,  3.,\n",
        "        4.,  1.,  0.,  9.,  8.,  5.,  9.,  5.,  3.,  5.,  3.,  3.,  6.,\n",
        "        2.,  2.,  5.,  3.,  2.,  3.,  9.,  7.,  3.,  8.,  3.,  3.,  6.,  3.])"
       ]
      }
     ],
     "prompt_number": 89
    },
    {
     "cell_type": "markdown",
     "metadata": {},
     "source": [
      "#Real(WORKKKKKKK)"
     ]
    },
    {
     "cell_type": "code",
     "collapsed": false,
     "input": [
      "import time\n",
      "import urllib\n",
      "import datetime\n",
      "from selenium import webdriver\n",
      "from selenium.common.exceptions import NoSuchElementException\n",
      "from scipy import misc\n",
      "from matplotlib import pyplot as plt\n",
      "from time import gmtime, strftime\n",
      "import matplotlib.cm as cm\n",
      "import Image\n",
      "import numpy as np\n",
      "import csv"
     ],
     "language": "python",
     "metadata": {},
     "outputs": [],
     "prompt_number": 81
    },
    {
     "cell_type": "markdown",
     "metadata": {},
     "source": [
      "##Tuna function \n",
      "works same as when we separate imges to digits above, only different is that it get the current, live captcha image"
     ]
    },
    {
     "cell_type": "code",
     "collapsed": false,
     "input": [
      "def Tuna(pic):\n",
      "    picarray = np.asarray(pic)\n",
      "    bluecheck = 55080\n",
      "    tow_d = picarray[:,:,3]\n",
      "    \n",
      "    firstnum = tow_d[8:26,7:19]\n",
      "\n",
      "    secondnum = tow_d[8:26,19:30]#need pad 1s\n",
      "    paded_secondnum = np.zeros((secondnum.shape[0], secondnum.shape[1]+1))\n",
      "    paded_secondnum[:,:secondnum.shape[1]] = secondnum\n",
      "\n",
      "    thirdnum = tow_d[8:26,30:40]#need 2 colum paded 1s\n",
      "    paded_thirdnum = np.zeros((thirdnum.shape[0], thirdnum.shape[1]+2))\n",
      "    paded_thirdnum[:,:thirdnum.shape[1]] = thirdnum\n",
      "\n",
      "    fouthnum = tow_d[8:26,40:52] \n",
      "\n",
      "    one_d1 = firstnum.reshape(216)\n",
      "    one_d2 = paded_secondnum.reshape(216)\n",
      "    one_d3 = paded_thirdnum.reshape(216)\n",
      "    one_d4 = fouthnum.reshape(216)\n",
      "\n",
      "    tow_d2 = picarray[:,:,2]\n",
      "    \n",
      "    firstnum2 = tow_d2[8:26,7:19]\n",
      "\n",
      "    secondnum2 = tow_d2[8:26,19:30] #need 1 colum to pad 1s\n",
      "    paded_secondnum2 = np.zeros((secondnum2.shape[0], secondnum2.shape[1]+1))\n",
      "    paded_secondnum2[:,:secondnum2.shape[1]] = secondnum2[:,:]\n",
      "\n",
      "    thirdnum2 = tow_d2[8:26,30:40] #need 2 colum to pad 1s\n",
      "    paded_thirdnum2 = np.zeros((thirdnum2.shape[0], thirdnum2.shape[1]+2))\n",
      "    paded_thirdnum2[:,:thirdnum2.shape[1]] = thirdnum2\n",
      "\n",
      "    fouthnum2 = tow_d2[8:26,40:52] \n",
      "\n",
      "    one_d12 = firstnum2.reshape(216)\n",
      "    one_d22 = paded_secondnum2.reshape(216)\n",
      "    one_d32 = paded_thirdnum2.reshape(216)\n",
      "    one_d42 = fouthnum2.reshape(216)\n",
      "\n",
      "\n",
      "    one_d12[one_d12==255] = 0\n",
      "    one_d22[one_d22==255] = 0\n",
      "    one_d32[one_d32==255] = 0\n",
      "    one_d42[one_d42==255] = 0\n",
      "\n",
      "    firstnum2=one_d12.reshape(18,12)\n",
      "\n",
      "    if(np.sum(np.sum(firstnum, axis=0)) == bluecheck):\n",
      "        print \"case1\"\n",
      "        blogwrite = np.zeros((4, 216))\n",
      "        blogwrite[0,:] = one_d12\n",
      "        blogwrite[1,:] = one_d22\n",
      "        blogwrite[2,:] = one_d32\n",
      "        blogwrite[3,:] = one_d42\n",
      "\n",
      "    else:\n",
      "        print \"case2\"\n",
      "        blogwrite = np.zeros((4, 216))\n",
      "        blogwrite[0,:] = one_d1\n",
      "        blogwrite[1,:] = one_d2\n",
      "        blogwrite[2,:] = one_d3\n",
      "        blogwrite[3,:] = one_d4\n",
      "        \n",
      "    return blogwrite"
     ],
     "language": "python",
     "metadata": {},
     "outputs": [],
     "prompt_number": 82
    },
    {
     "cell_type": "markdown",
     "metadata": {},
     "source": [
      "#Main\n",
      "Please use your own id and password"
     ]
    },
    {
     "cell_type": "code",
     "collapsed": false,
     "input": [
      "browser = webdriver.Firefox()\n",
      "browser.get(\"http://sky.muic.mahidol.ac.th/\")\n",
      "\n",
      "find = browser.find_element_by_id(\"captcha\")\n",
      "loc = find.get_attribute('src')\n",
      "fname = strftime(\"%H-%M-%S\", gmtime())\n",
      "urllib.urlretrieve(loc, fname+\".png\")\n",
      "\n",
      "pic = Image.open(fname+\".png\")\n",
      "unknown = Tuna(pic)\n",
      "hope = knn.predict(unknown)\n",
      "\n",
      "usr = browser.find_element_by_id(\"login-username\")\n",
      "pw = browser.find_element_by_id(\"login-password\")\n",
      "capt_fill = browser.find_element_by_id(\"captcha-input\")\n",
      "butt = browser.find_element_by_id(\"button-login\")\n",
      "\n",
      "usr.send_keys(\"\")#usernamehere \n",
      "pw.send_keys(\"\")#passwordhere\n",
      "capt_fill.send_keys(hope)\n",
      "\n",
      "butt.click()\n"
     ],
     "language": "python",
     "metadata": {},
     "outputs": [
      {
       "output_type": "stream",
       "stream": "stdout",
       "text": [
        "case2\n",
        "[ 0.  6.  7.  2.]\n"
       ]
      }
     ],
     "prompt_number": 85
    },
    {
     "cell_type": "code",
     "collapsed": false,
     "input": [],
     "language": "python",
     "metadata": {},
     "outputs": []
    }
   ],
   "metadata": {}
  }
 ]
}